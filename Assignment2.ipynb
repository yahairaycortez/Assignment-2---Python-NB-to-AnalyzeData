{
 "cells": [
  {
   "cell_type": "markdown",
   "id": "3eff6113-8ead-4b80-98c5-fc2fbbf2cae2",
   "metadata": {},
   "source": [
    "# Assignment 2: \n"
   ]
  },
  {
   "cell_type": "code",
   "execution_count": 9,
   "id": "5f7664d3-baf8-412a-a907-cb173a46912a",
   "metadata": {},
   "outputs": [],
   "source": [
    "import music\n",
    "#import the data set into the notebook"
   ]
  },
  {
   "cell_type": "code",
   "execution_count": 10,
   "id": "e71105a4-98c8-4225-b215-8da9179ed782",
   "metadata": {},
   "outputs": [],
   "source": [
    "music = music.get_music()"
   ]
  },
  {
   "cell_type": "code",
   "execution_count": 11,
   "id": "360d623e-fe2a-4b0b-821b-de208b5ac95f",
   "metadata": {},
   "outputs": [
    {
     "data": {
      "text/plain": [
       "list"
      ]
     },
     "execution_count": 11,
     "metadata": {},
     "output_type": "execute_result"
    }
   ],
   "source": [
    "#look at the dataset type\n",
    "type(music)"
   ]
  },
  {
   "cell_type": "code",
   "execution_count": 12,
   "id": "91ca8dc8-c77a-4aef-b79e-38f746ed080e",
   "metadata": {},
   "outputs": [
    {
     "data": {
      "text/plain": [
       "10000"
      ]
     },
     "execution_count": 12,
     "metadata": {},
     "output_type": "execute_result"
    }
   ],
   "source": [
    "#length of the dataset\n",
    "len(music)"
   ]
  },
  {
   "cell_type": "code",
   "execution_count": null,
   "id": "4c739f03-d3d7-4d5a-9d99-777a809692ea",
   "metadata": {},
   "outputs": [],
   "source": [
    "#look at the first index of the data set\n",
    "music[0]"
   ]
  },
  {
   "cell_type": "code",
   "execution_count": 14,
   "id": "2b6d0a8a-bc92-43fe-aab2-d548ecc76046",
   "metadata": {},
   "outputs": [],
   "source": [
    "from pprint import pprint as prettyprint"
   ]
  },
  {
   "cell_type": "code",
   "execution_count": 15,
   "id": "c005b957-afe4-440b-87c1-a6ce2226b3ae",
   "metadata": {},
   "outputs": [
    {
     "name": "stdout",
     "output_type": "stream",
     "text": [
      "{'artist': {'familiarity': 0.581793766,\n",
      "            'hotttnesss': 0.401997543,\n",
      "            'id': 'ARD7TVE1187B99BFB1',\n",
      "            'latitude': 0.0,\n",
      "            'location': 0,\n",
      "            'longitude': 0.0,\n",
      "            'name': 'Casual',\n",
      "            'similar': 0.0,\n",
      "            'terms': 'hip hop',\n",
      "            'terms_freq': 1.0},\n",
      " 'release': {'id': 300848, 'name': 0},\n",
      " 'song': {'artist_mbtags': 0.0,\n",
      "          'artist_mbtags_count': 0.0,\n",
      "          'bars_confidence': 0.643,\n",
      "          'bars_start': 0.58521,\n",
      "          'beats_confidence': 0.834,\n",
      "          'beats_start': 0.58521,\n",
      "          'duration': 218.93179,\n",
      "          'end_of_fade_in': 0.247,\n",
      "          'hotttnesss': 0.60211999,\n",
      "          'id': 'SOMZWCG12A8C13C480',\n",
      "          'key': 1.0,\n",
      "          'key_confidence': 0.736,\n",
      "          'loudness': -11.197,\n",
      "          'mode': 0,\n",
      "          'mode_confidence': 0.636,\n",
      "          'start_of_fade_out': 218.932,\n",
      "          'tatums_confidence': 0.779,\n",
      "          'tatums_start': 0.28519,\n",
      "          'tempo': 92.198,\n",
      "          'time_signature': 4.0,\n",
      "          'time_signature_confidence': 0.778,\n",
      "          'title': 0,\n",
      "          'year': 0}}\n"
     ]
    }
   ],
   "source": [
    "prettyprint(music[0])"
   ]
  },
  {
   "cell_type": "code",
   "execution_count": 16,
   "id": "3ba9558d-4448-4f01-af22-44326a106f0f",
   "metadata": {},
   "outputs": [
    {
     "data": {
      "text/plain": [
       "dict_keys(['artist', 'release', 'song'])"
      ]
     },
     "execution_count": 16,
     "metadata": {},
     "output_type": "execute_result"
    }
   ],
   "source": [
    "music[0].keys()"
   ]
  },
  {
   "cell_type": "code",
   "execution_count": null,
   "id": "e137432e-a460-49e7-95c3-20954f7c57f8",
   "metadata": {},
   "outputs": [],
   "source": [
    "#loops through data set and prints release id of 1 song based on the artist name \n",
    "for i in music:\n",
    "    print(str(i['artist']['name'])+ ': ' + (str(i['release']['id'])))"
   ]
  },
  {
   "cell_type": "code",
   "execution_count": null,
   "id": "301ff3b5-34de-44e5-8618-effcf7e3a91e",
   "metadata": {},
   "outputs": [],
   "source": [
    "#iterates through dataset and checks whether artist genre is hip hop, will print artist genre regardless\n",
    "\n",
    "for i in music:\n",
    "    if str(i['artist']['terms']) == 'hip hop':\n",
    "        print(str(i['artist']['name'])+ 'is hip hop!')\n",
    "    else:\n",
    "        print(str(i['artist']['name']) + ' is actually ' + str(i['artist']['terms']))\n"
   ]
  },
  {
   "cell_type": "code",
   "execution_count": 85,
   "id": "3f914fb4-e6aa-4964-983e-942ddea72b4b",
   "metadata": {},
   "outputs": [
    {
     "name": "stdout",
     "output_type": "stream",
     "text": [
      "The Box Tops is not hip hop, they are actually blue-eyed soul!\n"
     ]
    }
   ],
   "source": [
    "#checks whether artist genre is hip hop\n",
    "a = music[1]['artist']['name']\n",
    "b = music[1]['artist']['terms']\n",
    "if b == 'hip hop':\n",
    "    print(a + ' is hip hop ')\n",
    "else:\n",
    "    print(a + ' is not hip hop, they are actually ' + b + '!')"
   ]
  },
  {
   "cell_type": "code",
   "execution_count": 104,
   "id": "dcc5221b-435d-4b1a-9ad9-8855a82e182e",
   "metadata": {},
   "outputs": [],
   "source": [
    "#function will print the genre of each artist\n",
    "def genres():\n",
    "    for i in music:\n",
    "        print(str(i['artist']['name'])+ ': ' + (str(i['artist']['terms'])))\n"
   ]
  },
  {
   "cell_type": "code",
   "execution_count": null,
   "id": "ea821409-df39-4e89-b305-b176882b200a",
   "metadata": {},
   "outputs": [],
   "source": [
    "#output artist genre\n",
    "genres()"
   ]
  },
  {
   "cell_type": "code",
   "execution_count": 113,
   "id": "c440bffb-93d8-4b74-b756-7fd109dad763",
   "metadata": {},
   "outputs": [],
   "source": [
    "#function will output number of artists that are hip hop\n",
    "\n",
    "def hiphop():\n",
    "    j = 0\n",
    "    for i in music:\n",
    "        if str(i['artist']['terms']) == 'hip hop':\n",
    "            #print(str(i['artist']['name'])+ ' is hip hop!')\n",
    "            j +=1\n",
    "\n",
    "    print('There are a total of ' + str(j) + ' hip hop artists')"
   ]
  },
  {
   "cell_type": "code",
   "execution_count": 114,
   "id": "bb3b4942-2d18-40e2-b08e-d69b49ebb123",
   "metadata": {},
   "outputs": [
    {
     "name": "stdout",
     "output_type": "stream",
     "text": [
      "There are a total of 346 hip hop artists\n"
     ]
    }
   ],
   "source": [
    "hiphop()"
   ]
  },
  {
   "cell_type": "code",
   "execution_count": 141,
   "id": "a3ee39df-77a4-44c8-ba3b-027978681b95",
   "metadata": {},
   "outputs": [],
   "source": [
    "import module__"
   ]
  },
  {
   "cell_type": "code",
   "execution_count": 142,
   "id": "fdf7b27e-4cce-46f6-83a7-1155dd91e92c",
   "metadata": {},
   "outputs": [
    {
     "ename": "NameError",
     "evalue": "name 'test' is not defined",
     "output_type": "error",
     "traceback": [
      "\u001b[0;31m---------------------------------------------------------------------------\u001b[0m",
      "\u001b[0;31mNameError\u001b[0m                                 Traceback (most recent call last)",
      "\u001b[0;32m/tmp/ipykernel_130/756179265.py\u001b[0m in \u001b[0;36m<module>\u001b[0;34m\u001b[0m\n\u001b[0;32m----> 1\u001b[0;31m \u001b[0mtest\u001b[0m\u001b[0;34m(\u001b[0m\u001b[0;34m)\u001b[0m\u001b[0;34m\u001b[0m\u001b[0;34m\u001b[0m\u001b[0m\n\u001b[0m",
      "\u001b[0;31mNameError\u001b[0m: name 'test' is not defined"
     ]
    }
   ],
   "source": [
    "test()"
   ]
  },
  {
   "cell_type": "code",
   "execution_count": null,
   "id": "432fe4d0-c268-4319-b3f2-81573572601d",
   "metadata": {},
   "outputs": [],
   "source": []
  }
 ],
 "metadata": {
  "kernelspec": {
   "display_name": "Python 3 (ipykernel)",
   "language": "python",
   "name": "python3"
  },
  "language_info": {
   "codemirror_mode": {
    "name": "ipython",
    "version": 3
   },
   "file_extension": ".py",
   "mimetype": "text/x-python",
   "name": "python",
   "nbconvert_exporter": "python",
   "pygments_lexer": "ipython3",
   "version": "3.9.6"
  }
 },
 "nbformat": 4,
 "nbformat_minor": 5
}
